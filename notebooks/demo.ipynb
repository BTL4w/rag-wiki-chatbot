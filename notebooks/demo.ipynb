{
  "cells": [
    {
      "cell_type": "markdown",
      "metadata": {},
      "source": [
        "# RAG Wiki Chatbot - Demo Notebook\n",
        "\n",
        "This notebook demonstrates how to use the RAG Wiki chatbot system.\n"
      ]
    },
    {
      "cell_type": "markdown",
      "metadata": {},
      "source": [
        "## 1. Setup and Imports\n"
      ]
    },
    {
      "cell_type": "code",
      "execution_count": null,
      "metadata": {},
      "outputs": [],
      "source": [
        "import sys\n",
        "sys.path.append('..')\n",
        "\n",
        "from src import QAPipeline\n",
        "\n",
        "# Initialize pipeline\n",
        "print(\"Loading RAG Wiki Chatbot...\")\n",
        "pipeline = QAPipeline('../src/config.yaml')\n",
        "pipeline.load_components()\n",
        "print(\"Ready!\")\n"
      ]
    },
    {
      "cell_type": "markdown",
      "metadata": {},
      "source": [
        "## 2. Query Examples\n"
      ]
    },
    {
      "cell_type": "code",
      "execution_count": null,
      "metadata": {},
      "outputs": [],
      "source": [
        "# Ask a question\n",
        "question = \"Thủ đô của Việt Nam là gì?\"\n",
        "\n",
        "response = pipeline.query(question)\n",
        "\n",
        "print(f\"Question: {response['question']}\")\n",
        "print(f\"\\nAnswer: {response['answer']}\")\n",
        "print(f\"\\nSources:\")\n",
        "for source in response['sources']:\n",
        "    print(f\"  [{source['index']}] {source['title']} - {source['section']}\")\n"
      ]
    }
  ],
  "metadata": {
    "language_info": {
      "name": "python"
    }
  },
  "nbformat": 4,
  "nbformat_minor": 2
}
